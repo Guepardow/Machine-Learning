{
 "cells": [
  {
   "cell_type": "code",
   "execution_count": 1,
   "metadata": {},
   "outputs": [],
   "source": [
    "import numpy as np \n",
    "import random\n",
    "import matplotlib.pyplot as plt\n",
    "import math"
   ]
  },
  {
   "cell_type": "code",
   "execution_count": 2,
   "metadata": {},
   "outputs": [],
   "source": [
    "# 5 input neurons in the input layer\n",
    "# 2 hidden layers with 6 neurons each\n",
    "# 2 output neurons in the output layer\n",
    "# all activation functions are sigmoid\n",
    "\n",
    "\n",
    "dataset_unfiltered = np.array([\n",
    "\t[0,\t\t0,\t\t0,\t\t0,\t\t0,\t\t0,\t\t1],\n",
    "\t[0,\t\t0,\t\t0,\t\t0,\t\t1,\t\t0,\t\t1],\n",
    "\t[0,\t\t0,\t\t0,\t\t1,\t\t0,\t\t0,\t\t1],\n",
    "\t[0,\t\t0,\t\t0,\t\t1,\t\t1,\t\t0,\t\t1],\n",
    "\t[0,\t\t0,\t\t1,\t\t0,\t\t0,\t\t0,\t\t1],\n",
    "\t[0,\t\t0,\t\t1,\t\t0,\t\t1,\t\t0,\t\t1],\n",
    "\t[0,\t\t0,\t\t1,\t\t1,\t\t0,\t\t0,\t\t1],\n",
    "\t[0,\t\t0,\t\t1,\t\t1,\t\t1,\t\t0,\t\t1],\n",
    "\t[0,\t\t1,\t\t0,\t\t0,\t\t0,\t\t1,\t\t0],\n",
    "\t[0,\t\t1,\t\t0,\t\t0,\t\t1,\t\t0,\t\t1],\n",
    "\t[0,\t\t1,\t\t0,\t\t1,\t\t0,\t\t1,\t\t0],\n",
    "\t[0,\t\t1,\t\t0,\t\t1,\t\t1,\t\t1,\t\t0],\n",
    "\t[0,\t\t1,\t\t1,\t\t0,\t\t0,\t\t0,\t\t1],\n",
    "\t[0,\t\t1,\t\t1,\t\t0,\t\t1,\t\t0,\t\t1],\n",
    "\t[0,\t\t1,\t\t1,\t\t1,\t\t0,\t\t1,\t\t0],\n",
    "\t[0,\t\t1,\t\t1,\t\t1,\t\t1,\t\t1,\t\t0],\n",
    "\t[1,\t\t0,\t\t0,\t\t0,\t\t0,\t\t0,\t\t1],\n",
    "\t[1,\t\t0,\t\t0,\t\t0,\t\t1,\t\t0,\t\t1],\n",
    "\t[1,\t\t0,\t\t0,\t\t1,\t\t0,\t\t1,\t\t0],\n",
    "\t[1,\t\t0,\t\t0,\t\t1,\t\t1,\t\t0,\t\t1],\n",
    "\t[1,\t\t0,\t\t1,\t\t0,\t\t0,\t\t1,\t\t0],\n",
    "\t[1,\t\t0,\t\t1,\t\t0,\t\t1,\t\t1,\t\t0],\n",
    "\t[1,\t\t0,\t\t1,\t\t1,\t\t0,\t\t1,\t\t0],\n",
    "\t[1,\t\t0,\t\t1,\t\t1,\t\t1,\t\t1,\t\t0],\n",
    "\t[1,\t\t1,\t\t0,\t\t0,\t\t0,\t\t0,\t\t1],\n",
    "\t[1,\t\t1,\t\t0,\t\t0,\t\t1,\t\t0,\t\t1],\n",
    "\t[1,\t\t1,\t\t0,\t\t1,\t\t0,\t\t1,\t\t0],\n",
    "\t[1,\t\t1,\t\t0,\t\t1,\t\t1,\t\t0,\t\t1],\n",
    "\t[1,\t\t1,\t\t1,\t\t0,\t\t0,\t\t1,\t\t0],\n",
    "\t[1,\t\t1,\t\t1,\t\t0,\t\t1,\t\t1,\t\t0],\n",
    "\t[1,\t\t1,\t\t1,\t\t1,\t\t0,\t\t1,\t\t0],\n",
    "\t[1,\t\t1,\t\t1,\t\t1,\t\t1,\t\t1,\t\t0]\n",
    "\t])"
   ]
  },
  {
   "cell_type": "code",
   "execution_count": 3,
   "metadata": {},
   "outputs": [],
   "source": [
    "def generateRandom2DMatrix(m, n):\n",
    "\treturn [ [random.randint(1,100)/100 for k in range(n)] for i in range(m) ]\n",
    "\n",
    "def sigmoid(z):\n",
    "\treturn 1/(1+np.exp(-z))\n",
    "\n",
    "def CostFunction(NN_output,output):\n",
    "\treturn output*(np.log10(NN_output)) + (1-output)*(np.log10(1 - NN_output))"
   ]
  },
  {
   "cell_type": "code",
   "execution_count": 4,
   "metadata": {},
   "outputs": [],
   "source": [
    "data_set = [ [0 for k in range(6)] for i in range(len(dataset_unfiltered)) ]\n",
    "index_data_set = 0\n",
    "\n",
    "\n",
    "\n",
    "for k in range(len(dataset_unfiltered[:,0])):\n",
    "\n",
    "\tfor i in range(dataset_unfiltered[k][5]):\n",
    "\t\t#temp = np.append( dataset_unfiltered[k][0:5], 1)\n",
    "\t\tdata_set[index_data_set] = np.append( dataset_unfiltered[k][0:5], 1)\n",
    "\t\tindex_data_set += 1\n",
    "\n",
    "\tfor j in range(dataset_unfiltered[k][6]):\n",
    "\t\t#temp = dataset_unfiltered[k][0:5]\n",
    "\t\tdata_set[index_data_set] = np.append( dataset_unfiltered[k][0:5], 0)\n",
    "\t\tindex_data_set += 1"
   ]
  },
  {
   "cell_type": "code",
   "execution_count": 5,
   "metadata": {},
   "outputs": [],
   "source": [
    "# Splitting dataset into training dataset and testing dataset:\n",
    "# But first, we need to shuffle the entire dataset!\n",
    "\n",
    "random.seed(99)\n",
    "random.shuffle(data_set)\n",
    "\n",
    "training_data_set = data_set[0:(math.ceil(0.70*len(data_set)))]\n",
    "testing_data_set  =\tdata_set[(math.ceil(0.70*len(data_set))): len(data_set)]"
   ]
  },
  {
   "cell_type": "code",
   "execution_count": 6,
   "metadata": {},
   "outputs": [
    {
     "name": "stdout",
     "output_type": "stream",
     "text": [
      "Training dataset:    23\n",
      "Testing dataset:     9\n"
     ]
    }
   ],
   "source": [
    "print(\"Training dataset:   \", len(training_data_set))\n",
    "print(\"Testing dataset:    \", len(testing_data_set))"
   ]
  },
  {
   "cell_type": "code",
   "execution_count": 7,
   "metadata": {},
   "outputs": [],
   "source": [
    "inputs = [ [0 for k in range(5)] for i in range(len(training_data_set)) ]\n",
    "desired_outputs = [0 for k in range(len(training_data_set))]\n",
    "\n",
    "\n",
    "inputs_testing = [ [0 for k in range(5)] for i in range(len(testing_data_set)) ]\n",
    "desired_outputs_testing = [0 for k in range(len(testing_data_set))]\n",
    "\n",
    "\n",
    "\n",
    "for i in range(len(training_data_set)):\n",
    "\tinputs[i] = training_data_set[i][0:5]\n",
    "\tdesired_outputs[i] = training_data_set[i][5]\n",
    "\n",
    "for i in range(len(testing_data_set)):\n",
    "\tinputs_testing[i] = training_data_set[i][0:5]\n",
    "\tdesired_outputs_testing[i] = training_data_set[i][5]"
   ]
  },
  {
   "cell_type": "code",
   "execution_count": 8,
   "metadata": {},
   "outputs": [],
   "source": [
    "bias_space = 1\n",
    "\n",
    "nInputs_neurons = 5 \n",
    "nNeurons_second_layer = 6 \n",
    "nNeurons_third_layer  = 6 \n",
    "output_neurons = 1 \n",
    "\n",
    "nInputs_neurons += bias_space\n",
    "nNeurons_second_layer += bias_space\n",
    "nNeurons_third_layer  += bias_space\n",
    "output_neurons += bias_space     # Not needed but will does make the algorith easier to write. We will ignore the bias here.\n",
    "\n",
    "\n"
   ]
  },
  {
   "cell_type": "code",
   "execution_count": 9,
   "metadata": {},
   "outputs": [],
   "source": [
    "Weights = [ [] for i in range(3)]\n",
    "\n",
    "#the first column is the Bias. So it will be set to 1.\n",
    "Weights[0] = np.array(generateRandom2DMatrix(nNeurons_second_layer, nInputs_neurons ))\n",
    "Weights[1] = np.array(generateRandom2DMatrix(nNeurons_third_layer, nNeurons_second_layer ))\n",
    "Weights[2] = np.array(generateRandom2DMatrix(output_neurons, nNeurons_third_layer ))\n",
    "\n",
    "Weights = np.array(Weights)"
   ]
  },
  {
   "cell_type": "code",
   "execution_count": 10,
   "metadata": {},
   "outputs": [],
   "source": [
    "input_layer = [ 0 for i in range(nInputs_neurons)]\n",
    "first_hidden_layer = [ 0 for i in range(nNeurons_second_layer)]\n",
    "second_hidden_layer = [ 0 for i in range(nNeurons_third_layer)]\n",
    "output_layer = [ 0 for i in range(output_neurons)]"
   ]
  },
  {
   "cell_type": "code",
   "execution_count": 11,
   "metadata": {},
   "outputs": [],
   "source": [
    "# These are bias\n",
    "input_layer = np.append(1, inputs[0])\n",
    "first_hidden_layer[0] = 1\n",
    "second_hidden_layer[0] = 1\n",
    "\n",
    "neurons = [input_layer, first_hidden_layer, second_hidden_layer, output_layer]\n",
    "neurons = (neurons)\n",
    "#neuron[\"layer\"][\"Which neuron of the layer/ FIRST ONE IS THE BIAS\"]\n",
    "neurons[0][0] = 1\n",
    "neurons[1][0] = 1\n",
    "neurons[2][0] = 1\n",
    "neurons[3][0] = 1"
   ]
  },
  {
   "cell_type": "code",
   "execution_count": 12,
   "metadata": {},
   "outputs": [],
   "source": [
    "def forwardPropagation(data_number = 0, training_data = True, showComputation = False, matrix_neurons = neurons, W = Weights):\n",
    "\tif(training_data == True):\n",
    "\t\tinput_i = inputs[data_number]\n",
    "\telse:\n",
    "\t\tinput_i = inputs_testing[data_number]\n",
    "\n",
    "\tmatrix_neurons[0] = np.append(1 , input_i)\n",
    "\tmatrix_neurons[1][0] = 1\n",
    "\tmatrix_neurons[2][0] = 1\n",
    "\tmatrix_neurons[3][0] = 1\n",
    "\t\n",
    "\tif(showComputation == True):\n",
    "\t\tprint(matrix_neurons)\n",
    "\n",
    "\tfor layer in range(len(W)):\n",
    "\t\tfor neuron_j in range(len(matrix_neurons[layer+1])):\n",
    "\t\t\tnext_layer_neuron = layer + 1\n",
    "\t\t\tz_j = np.dot( matrix_neurons[layer] , W[layer][neuron_j,:] )\n",
    "\t\t\tmatrix_neurons[next_layer_neuron][neuron_j] = sigmoid(z_j)\n",
    "\t\t\tif(showComputation == True):\n",
    "\t\t\t\tprint(matrix_neurons[layer] ,\" . \" , W[layer][neuron_j,:], \"  = s([\",next_layer_neuron, \"][\",neuron_j,\"]]) = \", sigmoid(z_j))\n",
    "\t\t\t\tprint(\"\")\n",
    "\n",
    "\tmatrix_neurons[1][0] = 1\n",
    "\tmatrix_neurons[2][0] = 1\n",
    "\tmatrix_neurons[3][0] = 1\n",
    "\n",
    "\treturn matrix_neurons, W"
   ]
  },
  {
   "cell_type": "code",
   "execution_count": null,
   "metadata": {},
   "outputs": [],
   "source": [
    "# test\n",
    "forwardPropagation(0)\n",
    "\n",
    "\n",
    "def printNeurons(matrix_neurons = neurons):\n",
    "\tlayer_names = [\"Inputs        \", \"Hidden layer 1\", \"Hidden layer 2\", \"Outputs       \"]\n",
    "\tfor i in range(len(matrix_neurons)):\n",
    "\t\tprint(layer_names[i] , \":        \", matrix_neurons[i])\n",
    "        \n",
    "    \n",
    "printNeurons()"
   ]
  }
 ],
 "metadata": {
  "kernelspec": {
   "display_name": "Python 3",
   "language": "python",
   "name": "python3"
  },
  "language_info": {
   "codemirror_mode": {
    "name": "ipython",
    "version": 3
   },
   "file_extension": ".py",
   "mimetype": "text/x-python",
   "name": "python",
   "nbconvert_exporter": "python",
   "pygments_lexer": "ipython3",
   "version": "3.7.0"
  }
 },
 "nbformat": 4,
 "nbformat_minor": 2
}
